{
 "cells": [
  {
   "cell_type": "markdown",
   "metadata": {
    "id": "R3SW8S-xw-ja"
   },
   "source": [
    "# CSE 144 Spring 2022 Assignment 1\n",
    "\n",
    "In this assignment, the goal is to build a linear regression model to predict the song popularity based on energy, acoustics, instumentalness, liveness, dancibility, etc. We'll be using the [Song Popularity Dataset](https://www.kaggle.com/datasets/yasserh/song-popularity-dataset) dataset from Kaggle dataset.\n",
    "\n",
    "In the first section, you'll perform standard data preprocessing using techniques we covered in class. In the second section, you'll train a simple linear regression model.\n",
    "\n",
    "You should be able to use NumPy, Pandas, and the `train_test_split()` function from scikit-learn to complete everything in this assignment. We also imported Matplotlib for you to visualize the training and validation loss.\n",
    "\n",
    "Remember that tuning on the test loss is prohibited.\n",
    "\n",
    "## Rubric\n",
    "\n",
    "The assignment is worth 57 points in total:\n",
    "- Data preprocessing (12 points)\n",
    "    - drop missing values (2 points)\n",
    "    - drop outliers (5 points)\n",
    "    - normalization (5 points)\n",
    "- Dataset split (10 points)\n",
    "    - test set split (5 points)\n",
    "    - k-fold train and validation set split (5 points)\n",
    "- Linear regression (25 points)\n",
    "    - MSE_loss (3 points)\n",
    "    - Gradient (5 points)\n",
    "    - Specify the epoch number and learning rate (0 points)\n",
    "    - Theta initialization (3 points)\n",
    "    - Translate dataframe to numpy (3 points)\n",
    "    - Traininig (5 points)\n",
    "        - Save train and val loss (2 points)\n",
    "        - Update parameters (3 points)\n",
    "    - Find best parameters (3 points)\n",
    "    - Evaluate on test set (3 points)\n",
    "    \n",
    "- Report (10 points, in a separate PDF file)\n",
    "- Bonus (3 points)\n",
    "    - If your test loss is below 0.025"
   ]
  },
  {
   "cell_type": "code",
   "execution_count": 1,
   "metadata": {
    "colab": {
     "base_uri": "https://localhost:8080/"
    },
    "executionInfo": {
     "elapsed": 109,
     "status": "ok",
     "timestamp": 1643169245840,
     "user": {
      "displayName": "Chris Liu",
      "photoUrl": "https://lh3.googleusercontent.com/a-/AOh14GhQemSXNy3-8lMOGHAoMnKl5GiUQPYaVv5RZoPlxi4=s64",
      "userId": "18245379379241780097"
     },
     "user_tz": 480
    },
    "id": "BSzbdL9NUV0K",
    "outputId": "36092453-95ce-4e31-879a-723790c80050"
   },
   "outputs": [
    {
     "name": "stdout",
     "output_type": "stream",
     "text": [
      "Python 2.7.18\r\n"
     ]
    }
   ],
   "source": [
    "!python --version"
   ]
  },
  {
   "cell_type": "code",
   "execution_count": 2,
   "metadata": {
    "id": "O3qPeXtUw76-"
   },
   "outputs": [
    {
     "ename": "ModuleNotFoundError",
     "evalue": "No module named 'matplotlib'",
     "output_type": "error",
     "traceback": [
      "\u001b[0;31m---------------------------------------------------------------------------\u001b[0m",
      "\u001b[0;31mModuleNotFoundError\u001b[0m                       Traceback (most recent call last)",
      "Input \u001b[0;32mIn [2]\u001b[0m, in \u001b[0;36m<cell line: 3>\u001b[0;34m()\u001b[0m\n\u001b[1;32m      1\u001b[0m \u001b[38;5;28;01mfrom\u001b[39;00m \u001b[38;5;21;01mtyping\u001b[39;00m \u001b[38;5;28;01mimport\u001b[39;00m List, Tuple\n\u001b[0;32m----> 3\u001b[0m \u001b[38;5;28;01mimport\u001b[39;00m \u001b[38;5;21;01mmatplotlib\u001b[39;00m\u001b[38;5;21;01m.\u001b[39;00m\u001b[38;5;21;01mpyplot\u001b[39;00m \u001b[38;5;28;01mas\u001b[39;00m \u001b[38;5;21;01mplt\u001b[39;00m\n\u001b[1;32m      4\u001b[0m \u001b[38;5;28;01mimport\u001b[39;00m \u001b[38;5;21;01mnumpy\u001b[39;00m \u001b[38;5;28;01mas\u001b[39;00m \u001b[38;5;21;01mnp\u001b[39;00m\n\u001b[1;32m      5\u001b[0m \u001b[38;5;28;01mimport\u001b[39;00m \u001b[38;5;21;01mpandas\u001b[39;00m \u001b[38;5;28;01mas\u001b[39;00m \u001b[38;5;21;01mpd\u001b[39;00m\n",
      "\u001b[0;31mModuleNotFoundError\u001b[0m: No module named 'matplotlib'"
     ]
    }
   ],
   "source": [
    "from typing import List, Tuple\n",
    "\n",
    "import matplotlib.pyplot as plt\n",
    "import numpy as np\n",
    "import pandas as pd\n",
    "from sklearn.model_selection import train_test_split\n",
    "from tqdm.notebook import trange\n",
    "\n",
    "import random\n",
    "seed = 144\n",
    "random.seed(seed)\n",
    "np.random.seed(seed)"
   ]
  },
  {
   "cell_type": "code",
   "execution_count": null,
   "metadata": {},
   "outputs": [],
   "source": [
    "# Load data\n",
    "data = pd.read_csv(\"./song_data.csv\", index_col=0).drop([\"song_name\"], axis = 1)\n",
    "\n",
    "# Visualize data \n",
    "data.info()\n",
    "data.hist(figsize=(14,14))"
   ]
  },
  {
   "cell_type": "markdown",
   "metadata": {},
   "source": [
    "### Data Cleaning\n",
    "`data.info()` shows that there are some missing values in the dataset. Also, we can see from the histogram that outliers exist for some features. Moreover, the range of different features has a huge gap: most in (0,1), but some are on the order of 1e2, or even 1e5. In the following you need to perform:\n",
    "1. Drop rows that contain NULL values.\n",
    "2. Remove outliers for features in ['song_duration_ms', 'instrumentalness'] based on interquantile range.\n",
    "3. Scale ranges of independent variables using Z-score method, and normalize the range of dependent feature ['song_popularity'] from [0,100] to [0,1]"
   ]
  },
  {
   "cell_type": "code",
   "execution_count": null,
   "metadata": {},
   "outputs": [],
   "source": [
    "# drop rows that have NULL value\n",
    "# ========== YOUR CODE STARTS HERE ==========\n",
    "pass\n",
    "# ========== YOUR CODE ENDS HERE ============\n",
    "\n",
    "'''\n",
    "Remove outliers for features in ['song_duration_ms', 'instrumentalness'] \n",
    "based on interquantile range. Here for each feature, we first sort data in an ascending order.\n",
    "Let q1 and q3 be the data that ranks 25% and 75% respectively. We then let iqr = q3 - q1, and \n",
    "compute \n",
    "                a = q1 - iqr x 1.5,\n",
    "                b = q3 + iqr x 1.5,\n",
    "and remove the data out of the range [a, b].\n",
    "Note: this can be realized with function quantile().\n",
    "'''\n",
    "for feature in ['song_duration_ms', 'instrumentalness']:\n",
    "    # ========== YOUR CODE STARTS HERE ==========\n",
    "    pass\n",
    "    # ========== YOUR CODE ENDS HERE ============\n",
    "data = data.reset_index(drop=True)\n",
    "'''\n",
    "Scale all independent features using z-score normalization, and normalize dependent feature range to [0, 1]\n",
    "Note: use different mean and std for different columns!\n",
    "'''\n",
    "# ========== YOUR CODE STARTS HERE ==========\n",
    "pass\n",
    "# ========== YOUR CODE ENDS HERE ============"
   ]
  },
  {
   "cell_type": "markdown",
   "metadata": {},
   "source": [
    "Now we visualize the data again."
   ]
  },
  {
   "cell_type": "code",
   "execution_count": null,
   "metadata": {},
   "outputs": [],
   "source": [
    "data.info()\n",
    "data.hist(figsize=(14,14))"
   ]
  },
  {
   "cell_type": "markdown",
   "metadata": {
    "id": "gDCncF1vfoT2"
   },
   "source": [
    "## Dataset preparation\n",
    "Next we will split dataset to train set, validation set and test set. First we randomly choose 30% as test set. Then we use $k$-fold validation on the remaining 70% to generate $k$ different train set and validation set pairs, where $k=5$."
   ]
  },
  {
   "cell_type": "code",
   "execution_count": null,
   "metadata": {},
   "outputs": [],
   "source": [
    "def test_split(data, test_size: float=0.3, seed=seed):\n",
    "    '''\n",
    "    Use function train_test_split() to split test set.\n",
    "    '''\n",
    "    # ========== YOUR CODE STARTS HERE ==========\n",
    "    pass\n",
    "    # ========== YOUR CODE ENDS HERE ============\n",
    "    \n",
    "    return (X_train_val.reset_index(drop=True),\n",
    "            y_train_val.reset_index(drop=True),\n",
    "            X_test.reset_index(drop=True),\n",
    "            y_test.reset_index(drop=True))\n",
    "    \n",
    "\n",
    "def train_val_split(X_train_val, y_train_val, k=5, seed=seed):\n",
    "    '''\n",
    "    Use given index sets to generate k train and validation pairs. The return value should be \n",
    "    a list whose components are tuples:\n",
    "    [(X_train1, y_train1, X_val1, y_val1), ..., (X_traink, y_traink, X_valk, y_valk)]\n",
    "    \n",
    "    Here suppose data length is 10, the index sets could be like:\n",
    "                    [[2,5], [1,6], [3,8], [9,4], [0,7]]\n",
    "                    \n",
    "    '''\n",
    "    index_shuffle = list(X_train_val.index)\n",
    "    random.shuffle(index_shuffle)\n",
    "    index_split_list = [[index_shuffle[i+j] for i in range(0, len(index_shuffle), 5)  if i+j<len(index_shuffle)] for j in range(5)]\n",
    "    train_val_pairs = [(None, None, None, None) for _ in range(k)]\n",
    "    # ========== YOUR CODE STARTS HERE ==========\n",
    "    pass\n",
    "    # ========== YOUR CODE ENDS HERE ============    \n",
    "    return train_val_pairs\n",
    "\n",
    "X_train_val, y_train_val, X_test, y_test = test_split(data)\n",
    "train_val_pairs = train_val_split(X_train_val, y_train_val)"
   ]
  },
  {
   "cell_type": "raw",
   "metadata": {
    "id": "9cRFbt-i1wk6"
   },
   "source": [
    "## Linear regression\n",
    "\n",
    "Hint: A convenient way to calculate $X \\cdot \\theta$ is to prepend a column of 1's to your $X$ matrix so that you don't have to perform an extra addition operation. If you used this implementation, please also add an additional dimension to your feature matrix so that they are consistent in shape. See the image below for illustration. See this [illustration](https://cs231n.github.io/linear-classify/#:~:text=Illustration%20of%20the,and%20the%20biases.) for more detail.\n",
    "\n",
    "You report should include the train, val and test loss. You can try different learning rates and epoch combinations and report the best results you get based on the validation loss."
   ]
  },
  {
   "cell_type": "code",
   "execution_count": null,
   "metadata": {
    "id": "YZOF6w9lw3zh"
   },
   "outputs": [],
   "source": [
    "def MSE_loss(pred: np.ndarray, target: np.ndarray):\n",
    "    # ========== YOUR CODE STARTS HERE ==========\n",
    "    pass\n",
    "    # ========== YOUR CODE ENDS HERE ============ \n",
    "\n",
    "def gradient(X: np.ndarray, y: np.ndarray, theta: np.ndarray):\n",
    "    # ========== YOUR CODE STARTS HERE ==========\n",
    "    pass\n",
    "    # ========== YOUR CODE ENDS HERE ============ \n",
    "\n",
    "# Specify epoch and learning rate\n",
    "# ========== YOUR CODE STARTS HERE ==========\n",
    "num_epochs = None\n",
    "learning_rate = None\n",
    "# ========== YOUR CODE ENDS HERE ============ \n",
    "k = 5\n",
    "train_loss_history = [[] for _ in range(k)]\n",
    "val_loss_history = [[] for _ in range(k)]\n",
    "\n",
    "theta_min = None\n",
    "index_min = None\n",
    "loss_min = None\n",
    "\n",
    "for i in range(k):\n",
    "    X_train, y_train, X_val, y_val = train_val_pairs[i]\n",
    "    \n",
    "    # Translate dataframe to numpy     \n",
    "    # ========== YOUR CODE STARTS HERE ==========\n",
    "    pass\n",
    "    # ========== YOUR CODE ENDS HERE ============\n",
    "    \n",
    "    # Initialize theta    \n",
    "    # ========== YOUR CODE STARTS HERE ==========\n",
    "    pass\n",
    "    # ========== YOUR CODE ENDS HERE ============\n",
    "    \n",
    "    for epoch in trange(num_epochs, desc=\"Epoch\"):\n",
    "        # Compute loss, and save to train_loss_history and val_loss_history\n",
    "        # ========== YOUR CODE STARTS HERE ==========\n",
    "        pass\n",
    "        # ========== YOUR CODE ENDS HERE ============\n",
    "        \n",
    "        # Update parameter\n",
    "        # ========== YOUR CODE STARTS HERE ==========\n",
    "        pass\n",
    "        # ========== YOUR CODE ENDS HERE ============\n",
    "\n",
    "    \n",
    "    # Inference on validation set, and find the best parameters. Save corresponding parameters and index in theta_min and  index_min\n",
    "    # ========== YOUR CODE STARTS HERE ==========\n",
    "    pass\n",
    "    # ========== YOUR CODE ENDS HERE ============\n",
    "\n",
    "print(f\"Final train loss for the best model: {train_loss_history[index_min][-1]}\")\n",
    "print(f\"Final validation loss for the best model: {val_loss_history[index_min][-1]}\")\n",
    "print(\"Parameters for the best model: \"theta_min)\n",
    "\n",
    "plt.plot(np.arange(num_epochs), train_loss_history[index_min], label=\"Train loss\")\n",
    "plt.plot(np.arange(num_epochs), val_loss_history[index_min], label=\"Val loss\")\n",
    "plt.title(\"Train + validation loss\")\n",
    "plt.xlabel(\"Epoch\")\n",
    "plt.ylabel(\"Loss\")\n",
    "plt.legend()\n",
    "plt.show()\n",
    "\n",
    "\n",
    "# Evaluate on test set\n",
    "# ========== YOUR CODE STARTS HERE ==========\n",
    "pass\n",
    "# ========== YOUR CODE ENDS HERE ============                  \n",
    "print(f\"Test loss: {test_loss}\")"
   ]
  }
 ],
 "metadata": {
  "colab": {
   "collapsed_sections": [],
   "name": "CSE-144-Assignment-1-Solutions.ipynb",
   "provenance": []
  },
  "kernelspec": {
   "display_name": "Python 3 (ipykernel)",
   "language": "python",
   "name": "python3"
  },
  "language_info": {
   "codemirror_mode": {
    "name": "ipython",
    "version": 3
   },
   "file_extension": ".py",
   "mimetype": "text/x-python",
   "name": "python",
   "nbconvert_exporter": "python",
   "pygments_lexer": "ipython3",
   "version": "3.8.9"
  },
  "widgets": {
   "application/vnd.jupyter.widget-state+json": {
    "0ab615265db541a090ce63d391cf37e0": {
     "model_module": "@jupyter-widgets/base",
     "model_module_version": "1.2.0",
     "model_name": "LayoutModel",
     "state": {
      "_model_module": "@jupyter-widgets/base",
      "_model_module_version": "1.2.0",
      "_model_name": "LayoutModel",
      "_view_count": null,
      "_view_module": "@jupyter-widgets/base",
      "_view_module_version": "1.2.0",
      "_view_name": "LayoutView",
      "align_content": null,
      "align_items": null,
      "align_self": null,
      "border": null,
      "bottom": null,
      "display": null,
      "flex": null,
      "flex_flow": null,
      "grid_area": null,
      "grid_auto_columns": null,
      "grid_auto_flow": null,
      "grid_auto_rows": null,
      "grid_column": null,
      "grid_gap": null,
      "grid_row": null,
      "grid_template_areas": null,
      "grid_template_columns": null,
      "grid_template_rows": null,
      "height": null,
      "justify_content": null,
      "justify_items": null,
      "left": null,
      "margin": null,
      "max_height": null,
      "max_width": null,
      "min_height": null,
      "min_width": null,
      "object_fit": null,
      "object_position": null,
      "order": null,
      "overflow": null,
      "overflow_x": null,
      "overflow_y": null,
      "padding": null,
      "right": null,
      "top": null,
      "visibility": null,
      "width": null
     }
    },
    "16f4d6b1f9d04f8c8239be3c4c573e48": {
     "model_module": "@jupyter-widgets/base",
     "model_module_version": "1.2.0",
     "model_name": "LayoutModel",
     "state": {
      "_model_module": "@jupyter-widgets/base",
      "_model_module_version": "1.2.0",
      "_model_name": "LayoutModel",
      "_view_count": null,
      "_view_module": "@jupyter-widgets/base",
      "_view_module_version": "1.2.0",
      "_view_name": "LayoutView",
      "align_content": null,
      "align_items": null,
      "align_self": null,
      "border": null,
      "bottom": null,
      "display": null,
      "flex": null,
      "flex_flow": null,
      "grid_area": null,
      "grid_auto_columns": null,
      "grid_auto_flow": null,
      "grid_auto_rows": null,
      "grid_column": null,
      "grid_gap": null,
      "grid_row": null,
      "grid_template_areas": null,
      "grid_template_columns": null,
      "grid_template_rows": null,
      "height": null,
      "justify_content": null,
      "justify_items": null,
      "left": null,
      "margin": null,
      "max_height": null,
      "max_width": null,
      "min_height": null,
      "min_width": null,
      "object_fit": null,
      "object_position": null,
      "order": null,
      "overflow": null,
      "overflow_x": null,
      "overflow_y": null,
      "padding": null,
      "right": null,
      "top": null,
      "visibility": null,
      "width": null
     }
    },
    "1971ce58ed6d4b379e26d8669c809a37": {
     "model_module": "@jupyter-widgets/controls",
     "model_module_version": "1.5.0",
     "model_name": "HTMLModel",
     "state": {
      "_dom_classes": [],
      "_model_module": "@jupyter-widgets/controls",
      "_model_module_version": "1.5.0",
      "_model_name": "HTMLModel",
      "_view_count": null,
      "_view_module": "@jupyter-widgets/controls",
      "_view_module_version": "1.5.0",
      "_view_name": "HTMLView",
      "description": "",
      "description_tooltip": null,
      "layout": "IPY_MODEL_aafd107a30554f61bb70ab4bc8207831",
      "placeholder": "​",
      "style": "IPY_MODEL_a0365bc012b84002bc31883c3cc6cb41",
      "value": "Epoch: 100%"
     }
    },
    "2eaf4ab962f54387a913cf2aa97d7549": {
     "model_module": "@jupyter-widgets/controls",
     "model_module_version": "1.5.0",
     "model_name": "FloatProgressModel",
     "state": {
      "_dom_classes": [],
      "_model_module": "@jupyter-widgets/controls",
      "_model_module_version": "1.5.0",
      "_model_name": "FloatProgressModel",
      "_view_count": null,
      "_view_module": "@jupyter-widgets/controls",
      "_view_module_version": "1.5.0",
      "_view_name": "ProgressView",
      "bar_style": "success",
      "description": "",
      "description_tooltip": null,
      "layout": "IPY_MODEL_b014b3ffdc2447cc96c5e58f1b01dbc1",
      "max": 5000,
      "min": 0,
      "orientation": "horizontal",
      "style": "IPY_MODEL_9a43527e6cd848308f2c7fb756dd2c24",
      "value": 5000
     }
    },
    "5c8a1410f1c443839811ebbfad0dc4d2": {
     "model_module": "@jupyter-widgets/controls",
     "model_module_version": "1.5.0",
     "model_name": "HBoxModel",
     "state": {
      "_dom_classes": [],
      "_model_module": "@jupyter-widgets/controls",
      "_model_module_version": "1.5.0",
      "_model_name": "HBoxModel",
      "_view_count": null,
      "_view_module": "@jupyter-widgets/controls",
      "_view_module_version": "1.5.0",
      "_view_name": "HBoxView",
      "box_style": "",
      "children": [
       "IPY_MODEL_1971ce58ed6d4b379e26d8669c809a37",
       "IPY_MODEL_2eaf4ab962f54387a913cf2aa97d7549",
       "IPY_MODEL_c957829d42784375b4eb85b4ebb91922"
      ],
      "layout": "IPY_MODEL_16f4d6b1f9d04f8c8239be3c4c573e48"
     }
    },
    "89a7290af2604809a161d30bc33e9aca": {
     "model_module": "@jupyter-widgets/controls",
     "model_module_version": "1.5.0",
     "model_name": "DescriptionStyleModel",
     "state": {
      "_model_module": "@jupyter-widgets/controls",
      "_model_module_version": "1.5.0",
      "_model_name": "DescriptionStyleModel",
      "_view_count": null,
      "_view_module": "@jupyter-widgets/base",
      "_view_module_version": "1.2.0",
      "_view_name": "StyleView",
      "description_width": ""
     }
    },
    "9a43527e6cd848308f2c7fb756dd2c24": {
     "model_module": "@jupyter-widgets/controls",
     "model_module_version": "1.5.0",
     "model_name": "ProgressStyleModel",
     "state": {
      "_model_module": "@jupyter-widgets/controls",
      "_model_module_version": "1.5.0",
      "_model_name": "ProgressStyleModel",
      "_view_count": null,
      "_view_module": "@jupyter-widgets/base",
      "_view_module_version": "1.2.0",
      "_view_name": "StyleView",
      "bar_color": null,
      "description_width": ""
     }
    },
    "a0365bc012b84002bc31883c3cc6cb41": {
     "model_module": "@jupyter-widgets/controls",
     "model_module_version": "1.5.0",
     "model_name": "DescriptionStyleModel",
     "state": {
      "_model_module": "@jupyter-widgets/controls",
      "_model_module_version": "1.5.0",
      "_model_name": "DescriptionStyleModel",
      "_view_count": null,
      "_view_module": "@jupyter-widgets/base",
      "_view_module_version": "1.2.0",
      "_view_name": "StyleView",
      "description_width": ""
     }
    },
    "aafd107a30554f61bb70ab4bc8207831": {
     "model_module": "@jupyter-widgets/base",
     "model_module_version": "1.2.0",
     "model_name": "LayoutModel",
     "state": {
      "_model_module": "@jupyter-widgets/base",
      "_model_module_version": "1.2.0",
      "_model_name": "LayoutModel",
      "_view_count": null,
      "_view_module": "@jupyter-widgets/base",
      "_view_module_version": "1.2.0",
      "_view_name": "LayoutView",
      "align_content": null,
      "align_items": null,
      "align_self": null,
      "border": null,
      "bottom": null,
      "display": null,
      "flex": null,
      "flex_flow": null,
      "grid_area": null,
      "grid_auto_columns": null,
      "grid_auto_flow": null,
      "grid_auto_rows": null,
      "grid_column": null,
      "grid_gap": null,
      "grid_row": null,
      "grid_template_areas": null,
      "grid_template_columns": null,
      "grid_template_rows": null,
      "height": null,
      "justify_content": null,
      "justify_items": null,
      "left": null,
      "margin": null,
      "max_height": null,
      "max_width": null,
      "min_height": null,
      "min_width": null,
      "object_fit": null,
      "object_position": null,
      "order": null,
      "overflow": null,
      "overflow_x": null,
      "overflow_y": null,
      "padding": null,
      "right": null,
      "top": null,
      "visibility": null,
      "width": null
     }
    },
    "b014b3ffdc2447cc96c5e58f1b01dbc1": {
     "model_module": "@jupyter-widgets/base",
     "model_module_version": "1.2.0",
     "model_name": "LayoutModel",
     "state": {
      "_model_module": "@jupyter-widgets/base",
      "_model_module_version": "1.2.0",
      "_model_name": "LayoutModel",
      "_view_count": null,
      "_view_module": "@jupyter-widgets/base",
      "_view_module_version": "1.2.0",
      "_view_name": "LayoutView",
      "align_content": null,
      "align_items": null,
      "align_self": null,
      "border": null,
      "bottom": null,
      "display": null,
      "flex": null,
      "flex_flow": null,
      "grid_area": null,
      "grid_auto_columns": null,
      "grid_auto_flow": null,
      "grid_auto_rows": null,
      "grid_column": null,
      "grid_gap": null,
      "grid_row": null,
      "grid_template_areas": null,
      "grid_template_columns": null,
      "grid_template_rows": null,
      "height": null,
      "justify_content": null,
      "justify_items": null,
      "left": null,
      "margin": null,
      "max_height": null,
      "max_width": null,
      "min_height": null,
      "min_width": null,
      "object_fit": null,
      "object_position": null,
      "order": null,
      "overflow": null,
      "overflow_x": null,
      "overflow_y": null,
      "padding": null,
      "right": null,
      "top": null,
      "visibility": null,
      "width": null
     }
    },
    "c957829d42784375b4eb85b4ebb91922": {
     "model_module": "@jupyter-widgets/controls",
     "model_module_version": "1.5.0",
     "model_name": "HTMLModel",
     "state": {
      "_dom_classes": [],
      "_model_module": "@jupyter-widgets/controls",
      "_model_module_version": "1.5.0",
      "_model_name": "HTMLModel",
      "_view_count": null,
      "_view_module": "@jupyter-widgets/controls",
      "_view_module_version": "1.5.0",
      "_view_name": "HTMLView",
      "description": "",
      "description_tooltip": null,
      "layout": "IPY_MODEL_0ab615265db541a090ce63d391cf37e0",
      "placeholder": "​",
      "style": "IPY_MODEL_89a7290af2604809a161d30bc33e9aca",
      "value": " 5000/5000 [00:17&lt;00:00, 157.06it/s]"
     }
    }
   }
  }
 },
 "nbformat": 4,
 "nbformat_minor": 4
}
